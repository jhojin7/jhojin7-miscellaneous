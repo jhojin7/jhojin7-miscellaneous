{
 "cells": [
  {
   "cell_type": "code",
   "execution_count": 1,
   "metadata": {},
   "outputs": [],
   "source": [
    "import dotenv, os\n",
    "dotenv.load_dotenv()\n",
    "GH_ACCESS_TOKEN = os.getenv(\"GH_ACCESS_TOKEN\")"
   ]
  },
  {
   "cell_type": "code",
   "execution_count": 2,
   "metadata": {},
   "outputs": [],
   "source": [
    "import requests, json\n",
    "URL = \"https://api.github.com\"\n",
    "USER_REPO = \"jhojin7/problem-solving\"\n",
    "headers = {\"Authroization\": f\"{GH_ACCESS_TOKEN}\"}\n",
    "resp = requests.get(f\"{URL}/repos/{USER_REPO}/commits\",headers=headers)\n",
    "# resp = requests.get(f\"{URL}/users/jhojin7/commits\",headers=headers)\n",
    "if resp.status_code != 200:\n",
    "    print(resp)\n",
    "    pass\n",
    "data = json.loads(resp.text)\n",
    "# # github auth https://merrily-code.tistory.com/58\n",
    "# # https://docs.github.com/en/rest/reference/commits#list-commits--code-samples"
   ]
  },
  {
   "cell_type": "code",
   "execution_count": 3,
   "metadata": {},
   "outputs": [],
   "source": [
    "# print(data[0])\n",
    "commits = [data[i] for i in range(len(data))]\n",
    "processed = []\n",
    "for i in range(len(commits)):\n",
    "    name,date,message = commits[i]['commit']['committer']['name'],commits[i]['commit']['committer']['date'],commits[i]['commit']['message']\n",
    "    html_url = commits[i]['html_url']\n",
    "    short_sha = commits[i]['sha'][:6]\n",
    "    # print(name,date,message,html_url,short_sha)\n",
    "    processed.append((name,date,message,html_url,short_sha))"
   ]
  },
  {
   "cell_type": "code",
   "execution_count": 4,
   "metadata": {},
   "outputs": [
    {
     "data": {
      "text/html": [
       "<div>\n",
       "<style scoped>\n",
       "    .dataframe tbody tr th:only-of-type {\n",
       "        vertical-align: middle;\n",
       "    }\n",
       "\n",
       "    .dataframe tbody tr th {\n",
       "        vertical-align: top;\n",
       "    }\n",
       "\n",
       "    .dataframe thead th {\n",
       "        text-align: right;\n",
       "    }\n",
       "</style>\n",
       "<table border=\"1\" class=\"dataframe\">\n",
       "  <thead>\n",
       "    <tr style=\"text-align: right;\">\n",
       "      <th></th>\n",
       "      <th>name</th>\n",
       "      <th>date</th>\n",
       "      <th>message</th>\n",
       "      <th>html_url</th>\n",
       "      <th>short_sha</th>\n",
       "    </tr>\n",
       "  </thead>\n",
       "  <tbody>\n",
       "    <tr>\n",
       "      <th>0</th>\n",
       "      <td>Hojin Jang</td>\n",
       "      <td>2022-05-25T08:41:27Z</td>\n",
       "      <td>convert-sorted-array-to-binary-search-tree</td>\n",
       "      <td>https://github.com/jhojin7/problem-solving/com...</td>\n",
       "      <td>995189</td>\n",
       "    </tr>\n",
       "    <tr>\n",
       "      <th>1</th>\n",
       "      <td>Hojin Jang</td>\n",
       "      <td>2022-05-25T06:41:14Z</td>\n",
       "      <td>minimum-height-trees</td>\n",
       "      <td>https://github.com/jhojin7/problem-solving/com...</td>\n",
       "      <td>7d5a79</td>\n",
       "    </tr>\n",
       "    <tr>\n",
       "      <th>2</th>\n",
       "      <td>Hojin Jang</td>\n",
       "      <td>2022-05-25T04:43:41Z</td>\n",
       "      <td>balanced-binary-tree</td>\n",
       "      <td>https://github.com/jhojin7/problem-solving/com...</td>\n",
       "      <td>3b503b</td>\n",
       "    </tr>\n",
       "    <tr>\n",
       "      <th>3</th>\n",
       "      <td>Hojin Jang</td>\n",
       "      <td>2022-05-24T10:29:40Z</td>\n",
       "      <td>serialize-and-deserialize-binary-tree</td>\n",
       "      <td>https://github.com/jhojin7/problem-solving/com...</td>\n",
       "      <td>587890</td>\n",
       "    </tr>\n",
       "    <tr>\n",
       "      <th>4</th>\n",
       "      <td>Hojin Jang</td>\n",
       "      <td>2022-05-24T09:10:05Z</td>\n",
       "      <td>longest-valid-parenthesis</td>\n",
       "      <td>https://github.com/jhojin7/problem-solving/com...</td>\n",
       "      <td>5d7024</td>\n",
       "    </tr>\n",
       "  </tbody>\n",
       "</table>\n",
       "</div>"
      ],
      "text/plain": [
       "         name                  date  \\\n",
       "0  Hojin Jang  2022-05-25T08:41:27Z   \n",
       "1  Hojin Jang  2022-05-25T06:41:14Z   \n",
       "2  Hojin Jang  2022-05-25T04:43:41Z   \n",
       "3  Hojin Jang  2022-05-24T10:29:40Z   \n",
       "4  Hojin Jang  2022-05-24T09:10:05Z   \n",
       "\n",
       "                                      message  \\\n",
       "0  convert-sorted-array-to-binary-search-tree   \n",
       "1                        minimum-height-trees   \n",
       "2                        balanced-binary-tree   \n",
       "3       serialize-and-deserialize-binary-tree   \n",
       "4                   longest-valid-parenthesis   \n",
       "\n",
       "                                            html_url short_sha  \n",
       "0  https://github.com/jhojin7/problem-solving/com...    995189  \n",
       "1  https://github.com/jhojin7/problem-solving/com...    7d5a79  \n",
       "2  https://github.com/jhojin7/problem-solving/com...    3b503b  \n",
       "3  https://github.com/jhojin7/problem-solving/com...    587890  \n",
       "4  https://github.com/jhojin7/problem-solving/com...    5d7024  "
      ]
     },
     "execution_count": 4,
     "metadata": {},
     "output_type": "execute_result"
    }
   ],
   "source": [
    "import pandas as pd\n",
    "df = pd.DataFrame(processed,columns=[\"name\",\"date\",\"message\",\"html_url\",\"short_sha\"])\n",
    "df.head()"
   ]
  }
 ],
 "metadata": {
  "interpreter": {
   "hash": "552604fba8b52ab3f4fd3d0d63f792377da90ee558a7abfa38d318b5150eccb6"
  },
  "kernelspec": {
   "display_name": "Python 3.9.13 64-bit (windows store)",
   "language": "python",
   "name": "python3"
  },
  "language_info": {
   "codemirror_mode": {
    "name": "ipython",
    "version": 3
   },
   "file_extension": ".py",
   "mimetype": "text/x-python",
   "name": "python",
   "nbconvert_exporter": "python",
   "pygments_lexer": "ipython3",
   "version": "3.9.13"
  },
  "orig_nbformat": 4
 },
 "nbformat": 4,
 "nbformat_minor": 2
}
