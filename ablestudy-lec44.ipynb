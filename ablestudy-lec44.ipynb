{
 "cells": [
  {
   "cell_type": "code",
   "execution_count": 1,
   "metadata": {},
   "outputs": [
    {
     "name": "stdout",
     "output_type": "stream",
     "text": [
      "%EA%B0%80%EB%82%98%EB%8B%A4 가나다\n"
     ]
    }
   ],
   "source": [
    "from urllib.parse import quote, unquote\n",
    "q = quote('가나다')\n",
    "uq = unquote(quote('가나다'))\n",
    "print(q,uq)"
   ]
  },
  {
   "cell_type": "code",
   "execution_count": 2,
   "metadata": {},
   "outputs": [],
   "source": [
    "# lec 45\n",
    "from urllib.parse import urlencode, unquote\n",
    "import requests\n",
    "import json"
   ]
  },
  {
   "cell_type": "code",
   "execution_count": 3,
   "metadata": {},
   "outputs": [],
   "source": [
    "# lec 46\n",
    "url = 'http://apis.data.go.kr/B552061/jaywalking/getRestJaywalking'\n",
    "ENCODING = '%2Ft61kpdyDH2%2FQm1LhJtuSIkGA94L%2FVPDpCf2qn6ZJxfidN8KYAJg%2FPa05g7uLJb%2BX8szI3ff5Gs%2FTv1%2FewY0%2FA%3D%3D'\n",
    "DECODING = '/t61kpdyDH2/Qm1LhJtuSIkGA94L/VPDpCf2qn6ZJxfidN8KYAJg/Pa05g7uLJb+X8szI3ff5Gs/Tv1/ewY0/A=='\n",
    "# params ={'serviceKey' : DECODING, 'searchYearCd' : '2015', 'siDo' : '11', 'guGun' : '320', 'type' : 'json', 'numOfRows' : '10', 'pageNo' : '1' }\n",
    "# response = requests.get(url, params=params)\n",
    "# print(response.content)"
   ]
  },
  {
   "cell_type": "code",
   "execution_count": 4,
   "metadata": {},
   "outputs": [],
   "source": [
    "# lec 47\n",
    "queryString = '?' + urlencode(\n",
    "    {\n",
    "        'serviceKey':unquote(ENCODING),\n",
    "        'searchYearCd': '2017',\n",
    "        'siDo':'11',\n",
    "        'guGun':'680',\n",
    "        'type':'json',\n",
    "        'numOfRows':'10',\n",
    "        'pageNo':'1'\n",
    "    }\n",
    ")\n",
    "queryURL = url + queryString\n",
    "resp = requests.get(queryURL)\n",
    "# print(resp.text)"
   ]
  },
  {
   "cell_type": "code",
   "execution_count": 5,
   "metadata": {},
   "outputs": [
    {
     "name": "stdout",
     "output_type": "stream",
     "text": [
      "서울특별시 강남구 논현동(신논현역 부근)\n",
      "서울특별시 강남구 역삼동(현대해상강남타워 부근)\n",
      "서울특별시 강남구 논현동(사진박물관 부근)\n",
      "서울특별시 강남구 대치동(은마아파트입구교차로 부근)\n",
      "서울특별시 강남구 대치동(한나라한의원 부근)\n"
     ]
    }
   ],
   "source": [
    "jsonObj = json.loads(resp.text)\n",
    "for item in jsonObj['items']['item']:\n",
    "    print(item['spot_nm'])\n",
    "    # print(item.get('sido_sgg_nm')) "
   ]
  },
  {
   "cell_type": "code",
   "execution_count": 6,
   "metadata": {},
   "outputs": [
    {
     "name": "stdout",
     "output_type": "stream",
     "text": [
      "서울 서울강남1 서울특별시 강남구 논현동(신논현역 부근)\n",
      "서울 서울강남2 서울특별시 강남구 역삼동(현대해상강남타워 부근)\n",
      "서울 서울강남3 서울특별시 강남구 논현동(사진박물관 부근)\n",
      "서울 서울수서1 서울특별시 강남구 대치동(은마아파트입구교차로 부근)\n",
      "서울 서울수서2 서울특별시 강남구 대치동(한나라한의원 부근)\n"
     ]
    }
   ],
   "source": [
    "# lec 48\n",
    "f = open('open_api_data.csv','w',encoding='utf-8')\n",
    "f.write('지역구,사고지역\\n')\n",
    "for item in jsonObj['items']['item']:\n",
    "    print(item['sido_sgg_nm'], item['spot_nm'])\n",
    "    f.write(item['sido_sgg_nm']+','+item['spot_nm']+'\\n')\n",
    "f.close()"
   ]
  }
 ],
 "metadata": {
  "interpreter": {
   "hash": "2099fe86f8ae7b11ff1974837b42372860a5d27a2872793e75f14f9cea001d50"
  },
  "kernelspec": {
   "display_name": "Python 3.9.10 64-bit (windows store)",
   "language": "python",
   "name": "python3"
  },
  "language_info": {
   "codemirror_mode": {
    "name": "ipython",
    "version": 3
   },
   "file_extension": ".py",
   "mimetype": "text/x-python",
   "name": "python",
   "nbconvert_exporter": "python",
   "pygments_lexer": "ipython3",
   "version": "3.9.10"
  },
  "orig_nbformat": 4
 },
 "nbformat": 4,
 "nbformat_minor": 2
}
