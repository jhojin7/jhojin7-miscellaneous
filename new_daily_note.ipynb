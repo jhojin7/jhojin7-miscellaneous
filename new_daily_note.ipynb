{
 "cells": [
  {
   "cell_type": "code",
   "execution_count": 215,
   "metadata": {},
   "outputs": [],
   "source": [
    "LINK_TEMPLATE = '- [%s](%s)'\n",
    "FILE_TEMPLATE = '''\\\n",
    "---\n",
    "planned: \n",
    "covered: \n",
    "---\n",
    "# ablestudy %s\n",
    "-\n",
    "\n",
    "## Code\n",
    "```js\n",
    "```\n",
    "\n",
    "## Resources\n",
    "- \n",
    "'''"
   ]
  },
  {
   "cell_type": "code",
   "execution_count": 216,
   "metadata": {},
   "outputs": [],
   "source": [
    "from datetime import datetime\n",
    "from datetime import date as dddd\n",
    "import os\n",
    "\n",
    "def get_today() -> str:\n",
    "    # tdy = datetime.today()\n",
    "    # ret = \"%d-%d-%d\" %(tdy.year, tdy.month, tdy.day)\n",
    "    # return ret \n",
    "    return datetime.today().strftime(\"%Y-%m-%02d\")\n"
   ]
  },
  {
   "cell_type": "code",
   "execution_count": 217,
   "metadata": {},
   "outputs": [],
   "source": [
    "# everyday at 6am,...\n",
    "# create new note with template\n",
    "NOW = datetime.now() \n",
    "PATH = './ablestudy/'\n",
    "FNAME = 'ablestudy-%s.md'\n",
    "\n",
    "# create new note\n",
    "def create_note(path, fname, content):\n",
    "    if not os.path.exists(path):\n",
    "        os.mkdir(path)\n",
    "    with open(path+fname, 'w') as f:\n",
    "        # print(path+fname)\n",
    "        f.writelines(content)\n",
    "\n",
    "# create markdown style file link\n",
    "def create_md_link(path, fname):\n",
    "    return LINK_TEMPLATE %(fname,path+fname)\n"
   ]
  },
  {
   "cell_type": "code",
   "execution_count": 218,
   "metadata": {},
   "outputs": [
    {
     "name": "stdout",
     "output_type": "stream",
     "text": [
      "- [ablestudy-2022-02-01.md](./ablestudy/ablestudy-2022-02-01.md)\n",
      "- [ablestudy-2022-02-02.md](./ablestudy/ablestudy-2022-02-02.md)\n",
      "- [ablestudy-2022-02-03.md](./ablestudy/ablestudy-2022-02-03.md)\n",
      "- [ablestudy-2022-02-04.md](./ablestudy/ablestudy-2022-02-04.md)\n",
      "- [ablestudy-2022-02-05.md](./ablestudy/ablestudy-2022-02-05.md)\n",
      "- [ablestudy-2022-02-06.md](./ablestudy/ablestudy-2022-02-06.md)\n",
      "- [ablestudy-2022-02-07.md](./ablestudy/ablestudy-2022-02-07.md)\n",
      "- [ablestudy-2022-02-08.md](./ablestudy/ablestudy-2022-02-08.md)\n",
      "- [ablestudy-2022-02-09.md](./ablestudy/ablestudy-2022-02-09.md)\n",
      "- [ablestudy-2022-02-10.md](./ablestudy/ablestudy-2022-02-10.md)\n",
      "- [ablestudy-2022-02-11.md](./ablestudy/ablestudy-2022-02-11.md)\n",
      "- [ablestudy-2022-02-12.md](./ablestudy/ablestudy-2022-02-12.md)\n",
      "- [ablestudy-2022-02-13.md](./ablestudy/ablestudy-2022-02-13.md)\n",
      "- [ablestudy-2022-02-14.md](./ablestudy/ablestudy-2022-02-14.md)\n",
      "- [ablestudy-2022-02-15.md](./ablestudy/ablestudy-2022-02-15.md)\n",
      "- [ablestudy-2022-02-16.md](./ablestudy/ablestudy-2022-02-16.md)\n",
      "- [ablestudy-2022-02-17.md](./ablestudy/ablestudy-2022-02-17.md)\n",
      "- [ablestudy-2022-02-18.md](./ablestudy/ablestudy-2022-02-18.md)\n",
      "- [ablestudy-2022-02-19.md](./ablestudy/ablestudy-2022-02-19.md)\n",
      "- [ablestudy-2022-02-20.md](./ablestudy/ablestudy-2022-02-20.md)\n",
      "- [ablestudy-2022-02-21.md](./ablestudy/ablestudy-2022-02-21.md)\n",
      "- [ablestudy-2022-02-22.md](./ablestudy/ablestudy-2022-02-22.md)\n",
      "- [ablestudy-2022-02-23.md](./ablestudy/ablestudy-2022-02-23.md)\n",
      "- [ablestudy-2022-02-24.md](./ablestudy/ablestudy-2022-02-24.md)\n",
      "- [ablestudy-2022-02-25.md](./ablestudy/ablestudy-2022-02-25.md)\n",
      "- [ablestudy-2022-02-26.md](./ablestudy/ablestudy-2022-02-26.md)\n",
      "- [ablestudy-2022-02-27.md](./ablestudy/ablestudy-2022-02-27.md)\n"
     ]
    }
   ],
   "source": [
    "#### TESTS!!\n",
    "iso_now = (datetime.isoformat(datetime.now()))\n",
    "datetime.fromisoformat(iso_now).strftime(\"%Y-%m-%d\")\n",
    "\n",
    "dates = []\n",
    "\n",
    "dates = [dddd.fromisoformat(\"2022-02-%02d\"%x) for x in range(1,28)]\n",
    "##### SAME\n",
    "# for dd in range(1,21+1):\n",
    "#     dates.append(dddd.fromisoformat(\"2022-02-%02d\"%dd))\n",
    "\n",
    "\n",
    "\n",
    "# TEST\n",
    "for d in dates:\n",
    "    d_str = str(d)\n",
    "    create_note(PATH, FNAME %d_str,FILE_TEMPLATE %d_str)\n",
    "    print(create_md_link(PATH,FNAME %d_str))"
   ]
  }
 ],
 "metadata": {
  "interpreter": {
   "hash": "2099fe86f8ae7b11ff1974837b42372860a5d27a2872793e75f14f9cea001d50"
  },
  "kernelspec": {
   "display_name": "Python 3.9.10 64-bit (windows store)",
   "language": "python",
   "name": "python3"
  },
  "language_info": {
   "codemirror_mode": {
    "name": "ipython",
    "version": 3
   },
   "file_extension": ".py",
   "mimetype": "text/x-python",
   "name": "python",
   "nbconvert_exporter": "python",
   "pygments_lexer": "ipython3",
   "version": "3.9.10"
  },
  "orig_nbformat": 4
 },
 "nbformat": 4,
 "nbformat_minor": 2
}
