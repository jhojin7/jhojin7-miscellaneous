{
 "cells": [
  {
   "cell_type": "code",
   "execution_count": 1,
   "metadata": {},
   "outputs": [],
   "source": [
    "import sqlite3"
   ]
  },
  {
   "cell_type": "code",
   "execution_count": 2,
   "metadata": {},
   "outputs": [
    {
     "name": "stdout",
     "output_type": "stream",
     "text": [
      "<class 'sqlite3.Connection'>\n"
     ]
    }
   ],
   "source": [
    "db_connect = sqlite3.connect('./public-api.db')\n",
    "print(type(db_connect))"
   ]
  },
  {
   "cell_type": "code",
   "execution_count": 3,
   "metadata": {},
   "outputs": [
    {
     "name": "stdout",
     "output_type": "stream",
     "text": [
      "<class 'sqlite3.Cursor'>\n"
     ]
    }
   ],
   "source": [
    "db_cursor = db_connect.cursor()\n",
    "print(type(db_cursor))"
   ]
  },
  {
   "cell_type": "code",
   "execution_count": 4,
   "metadata": {},
   "outputs": [
    {
     "data": {
      "text/plain": [
       "<sqlite3.Cursor at 0x20e4e5fa6c0>"
      ]
     },
     "execution_count": 4,
     "metadata": {},
     "output_type": "execute_result"
    }
   ],
   "source": [
    "db_cursor.execute('create table testing\\\n",
    "    (col1 text, col2 int, col3 int, col4 int)')"
   ]
  },
  {
   "cell_type": "code",
   "execution_count": 5,
   "metadata": {},
   "outputs": [],
   "source": [
    "for i in range(10):\n",
    "    db_cursor.execute(\\\n",
    "    f'insert into testing values(\"hello world\",{i},{i},{i})')\n",
    "    db_connect.commit()"
   ]
  },
  {
   "cell_type": "code",
   "execution_count": 6,
   "metadata": {},
   "outputs": [
    {
     "name": "stdout",
     "output_type": "stream",
     "text": [
      "10\n",
      "('hello world', 0, 0, 0)\n",
      "('hello world', 1, 1, 1)\n",
      "('hello world', 2, 2, 2)\n",
      "('hello world', 3, 3, 3)\n",
      "('hello world', 4, 4, 4)\n",
      "('hello world', 5, 5, 5)\n",
      "('hello world', 6, 6, 6)\n",
      "('hello world', 7, 7, 7)\n",
      "('hello world', 8, 8, 8)\n",
      "('hello world', 9, 9, 9)\n"
     ]
    }
   ],
   "source": [
    "db_cursor.execute('select * from testing')\n",
    "db_content = db_cursor.fetchall()\n",
    "\n",
    "print(len(db_content))\n",
    "for content in db_content:\n",
    "    print(content)"
   ]
  },
  {
   "cell_type": "code",
   "execution_count": 7,
   "metadata": {},
   "outputs": [],
   "source": [
    "db_connect.close()"
   ]
  }
 ],
 "metadata": {
  "interpreter": {
   "hash": "2099fe86f8ae7b11ff1974837b42372860a5d27a2872793e75f14f9cea001d50"
  },
  "kernelspec": {
   "display_name": "Python 3.9.10 64-bit (windows store)",
   "language": "python",
   "name": "python3"
  },
  "language_info": {
   "codemirror_mode": {
    "name": "ipython",
    "version": 3
   },
   "file_extension": ".py",
   "mimetype": "text/x-python",
   "name": "python",
   "nbconvert_exporter": "python",
   "pygments_lexer": "ipython3",
   "version": "3.9.10"
  },
  "orig_nbformat": 4
 },
 "nbformat": 4,
 "nbformat_minor": 2
}
