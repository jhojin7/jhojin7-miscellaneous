{
 "cells": [
  {
   "cell_type": "code",
   "execution_count": 1,
   "metadata": {},
   "outputs": [
    {
     "name": "stdout",
     "output_type": "stream",
     "text": [
      "[('ccc', 'ddd')]\n"
     ]
    }
   ],
   "source": [
    "import sqlite3\n",
    "db_conn = sqlite3.connect('./mydata.db')\n",
    "type(db_conn)\n",
    "\n",
    "db_cursor = db_conn.cursor()\n",
    "type(db_cursor)\n",
    "\n",
    "# CREATE ... IF NOT EXISTS ...\n",
    "db_cursor.execute('create table if not exists tbl_public_api (col1 text, col2 text)')\n",
    "\n",
    "db_cursor.execute('insert into tbl_public_api values(\"ccc\",\"ddd\")')\n",
    "db_conn.commit()\n",
    "\n",
    "# SELECT\n",
    "db_cursor.execute('select * from tbl_public_api')\n",
    "db_data = db_cursor.fetchall()\n",
    "print(db_data)\n",
    "db_conn.close()"
   ]
  },
  {
   "cell_type": "code",
   "execution_count": 10,
   "metadata": {},
   "outputs": [
    {
     "name": "stdout",
     "output_type": "stream",
     "text": [
      "<_csv.reader object at 0x0000019A1983A1C0>\n",
      "[['지역구', '사고지역'], ['서울 서울강남1', '서울특별시 강남구 논현동(신논현역 부근)'], ['서울 서울강남2', '서울특별시 강남구 역삼동(현대해상강남타워 부근)'], ['서울 서울강남3', '서울특별시 강남구 논현동(사진박물관 부근)'], ['서울 서울수서1', '서울특별시 강남구 대치동(은마아파트입구교차로 부근)'], ['서울 서울수서2', '서울특별시 강남구 대치동(한나라한의원 부근)']]\n"
     ]
    }
   ],
   "source": [
    "import sqlite3\n",
    "# PREP CSV\n",
    "import csv\n",
    "filename = 'open_api_data.csv'\n",
    "file = open(filename,'r',encoding='utf8')\n",
    "reader = csv.reader(file)\n",
    "print(reader)\n",
    "\n",
    "# READ DATA\n",
    "data = [row for row in reader]\n",
    "print(data)\n",
    "\n",
    "# PREP DB\n",
    "db_conn = sqlite3.connect('./mydata.db')\n",
    "db_cursor = db_conn.cursor()\n",
    "db_cursor.execute('create table if not exists jaywalking (col1 text, col2 text)')\n",
    "\n",
    "# INSERT DATA TO DB\n",
    "for row in data:\n",
    "    sql = 'insert into jaywalking (col1, col2) values(?,?)'\n",
    "    parameters = (row[0],row[1])\n",
    "    db_cursor.execute(sql,parameters)\n",
    "    db_conn.commit()\n"
   ]
  },
  {
   "cell_type": "code",
   "execution_count": 11,
   "metadata": {},
   "outputs": [
    {
     "name": "stdout",
     "output_type": "stream",
     "text": [
      "[('지역구', '사고지역'), ('서울 서울강남2', '서울특별시 강남구 역삼동(현대해상강남타워 부근)'), ('서울 서울강남3', '서울특별시 강남구 논현동(사진박물관 부근)'), ('서울 서울수서1', '서울특별시 강남구 대치동(은마아파트입구교차로 부근)'), ('서울 서울수서2', '서울특별시 강남구 대치동(한나라한의원 부근)')]\n"
     ]
    }
   ],
   "source": [
    "# DELETE ONE\n",
    "sql = 'delete from jaywalking where col1=?'\n",
    "db_cursor.execute(sql,('서울 서울강남1',))\n",
    "\n",
    "# # DELETE ALL\n",
    "# sql = \"delete from jaywalking\"\n",
    "# db_cursor.execute(sql)\n",
    "\n",
    "# SELECT ALL\n",
    "db_cursor.execute('select * from jaywalking')\n",
    "db_data = db_cursor.fetchall()\n",
    "print(db_data)\n",
    "\n",
    "# COMMIT AND CLOSE\n",
    "db_conn.commit()\n",
    "db_cursor.close()\n",
    "db_conn.close()"
   ]
  }
 ],
 "metadata": {
  "interpreter": {
   "hash": "2099fe86f8ae7b11ff1974837b42372860a5d27a2872793e75f14f9cea001d50"
  },
  "kernelspec": {
   "display_name": "Python 3.9.10 64-bit (windows store)",
   "language": "python",
   "name": "python3"
  },
  "language_info": {
   "codemirror_mode": {
    "name": "ipython",
    "version": 3
   },
   "file_extension": ".py",
   "mimetype": "text/x-python",
   "name": "python",
   "nbconvert_exporter": "python",
   "pygments_lexer": "ipython3",
   "version": "3.9.10"
  },
  "orig_nbformat": 4
 },
 "nbformat": 4,
 "nbformat_minor": 2
}
