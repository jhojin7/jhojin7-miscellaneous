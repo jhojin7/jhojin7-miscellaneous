{
 "cells": [
  {
   "cell_type": "markdown",
   "metadata": {},
   "source": [
    "lec37-39"
   ]
  },
  {
   "cell_type": "code",
   "execution_count": 1,
   "metadata": {},
   "outputs": [
    {
     "name": "stdout",
     "output_type": "stream",
     "text": [
      "{'a': [5, 3, 1, 4, 2], 'b': [6, 9, 8, 7], 'c': [6, 9, 8, 7]}\n",
      "{'a': [1, 2, 3, 4, 5], 'b': [9, 8, 7, 6], 'c': [7, 8, 9, 6]}\n"
     ]
    }
   ],
   "source": [
    "# dictionary sorting methods\n",
    "test_dict = {\n",
    "    'a':[5,3,1,4,2],\n",
    "    'b':[6,9,8,7],\n",
    "    'c':[6,9,8,7],\n",
    "}\n",
    "\n",
    "print(test_dict)\n",
    "# ascending\n",
    "test_dict['a'].sort()\n",
    "# descending\n",
    "test_dict['b'].sort(reverse=True)\n",
    "# reversed from original order\n",
    "test_dict['c'].reverse()\n",
    "print(test_dict)"
   ]
  },
  {
   "cell_type": "code",
   "execution_count": 2,
   "metadata": {},
   "outputs": [
    {
     "name": "stdout",
     "output_type": "stream",
     "text": [
      "{1: 1, 2: 1, 3: 1, 4: 2, 5: 2, 6: 3, 7: 2, 8: 2, 9: 2, 0: 1}\n",
      "Counter({6: 3, 4: 2, 5: 2, 7: 2, 8: 2, 9: 2, 1: 1, 2: 1, 3: 1, 0: 1})\n",
      "1 1\n"
     ]
    }
   ],
   "source": [
    "# count\n",
    "nums = [1,2,3,4,5,6,7,8,9,7,6,4,8,5,9,0,6]\n",
    "cnt = {}\n",
    "for num in nums:\n",
    "    if num in cnt:\n",
    "        cnt[num] = cnt[num] + 1\n",
    "    else:\n",
    "        cnt[num] = 1\n",
    "print(cnt)\n",
    "\n",
    "# 코테 책에서 봤던 한줄짜리 솔루션\n",
    "import collections\n",
    "cnt2 = collections.Counter(nums)\n",
    "print(cnt2)\n",
    "print(1,cnt2[1])"
   ]
  },
  {
   "cell_type": "code",
   "execution_count": 3,
   "metadata": {},
   "outputs": [
    {
     "name": "stdout",
     "output_type": "stream",
     "text": [
      "1\n",
      "2\n",
      "3\n",
      "4\n",
      "5\n",
      "6\n"
     ]
    }
   ],
   "source": [
    "# traversing dict\n",
    "dict2 = {\n",
    "    'a':1,\n",
    "    'b':{\n",
    "        'A':1,\n",
    "        'B':2,\n",
    "        'C':3,\n",
    "        'D':4,\n",
    "        'E':5,\n",
    "        'F':6\n",
    "    },\n",
    "    'c':[7,8,9]\n",
    "}\n",
    "\n",
    "# for key in dict2:\n",
    "#     print(dict2[key],type(dict2[key]))\n",
    "\n",
    "for key in dict2:\n",
    "    if type(dict2[key]) == dict:\n",
    "        for key1 in dict2[key]:\n",
    "            print(dict2[key][key1])\n"
   ]
  },
  {
   "cell_type": "markdown",
   "metadata": {},
   "source": [
    "lec 40"
   ]
  },
  {
   "cell_type": "code",
   "execution_count": 4,
   "metadata": {},
   "outputs": [
    {
     "name": "stdout",
     "output_type": "stream",
     "text": [
      "ParseResult(scheme='https', netloc='google.com', path='', params='', query='', fragment='')\n"
     ]
    },
    {
     "data": {
      "text/plain": [
       "'https'"
      ]
     },
     "execution_count": 4,
     "metadata": {},
     "output_type": "execute_result"
    }
   ],
   "source": [
    "# urlparse\n",
    "from urllib.parse import urlparse\n",
    "url = urlparse('https://google.com')\n",
    "# returns named tuple ParseResult\n",
    "print(url)\n",
    "# scheme: 통신방식\n",
    "# netloc: port number\n",
    "# port: port number\n",
    "# path: path to document\n",
    "# params: parameters\n",
    "url[0] # can be accessed with index"
   ]
  }
 ],
 "metadata": {
  "interpreter": {
   "hash": "2099fe86f8ae7b11ff1974837b42372860a5d27a2872793e75f14f9cea001d50"
  },
  "kernelspec": {
   "display_name": "Python 3.9.10 64-bit (windows store)",
   "language": "python",
   "name": "python3"
  },
  "language_info": {
   "codemirror_mode": {
    "name": "ipython",
    "version": 3
   },
   "file_extension": ".py",
   "mimetype": "text/x-python",
   "name": "python",
   "nbconvert_exporter": "python",
   "pygments_lexer": "ipython3",
   "version": "3.9.10"
  },
  "orig_nbformat": 4
 },
 "nbformat": 4,
 "nbformat_minor": 2
}
