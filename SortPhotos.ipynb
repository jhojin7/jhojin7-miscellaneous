{
 "cells": [
  {
   "cell_type": "code",
   "execution_count": null,
   "metadata": {},
   "outputs": [],
   "source": [
    "import os\n",
    "import shutil\n",
    "from datetime import datetime "
   ]
  },
  {
   "cell_type": "code",
   "execution_count": null,
   "metadata": {},
   "outputs": [],
   "source": [
    "ROOT = 'C:\\\\Users\\\\Hojin\\\\OneDrive - Sejong University'\n",
    "SORTPHOTOS = os.chdir(ROOT + '\\\\HJ\\\\4.Archive-YYYYMMDD\\\\SortPhotosTEST')\n",
    "main_dirs = os.listdir(SORTPHOTOS)\n",
    "# print(main_dirs)\n",
    "for f in main_dirs:\n",
    "    if f[-4:] != \".png\":\n",
    "        main_dirs.pop(main_dirs.index(f))\n",
    "\n",
    "\n",
    "main_dirs, len(main_dirs)\n",
    "# cron: every 1st of month at 6am\n",
    "# 0 6 1 * * +script dir"
   ]
  },
  {
   "cell_type": "code",
   "execution_count": null,
   "metadata": {},
   "outputs": [],
   "source": [
    "curdir = os.path.abspath(os.path.curdir)\n",
    "file = os.path.join(curdir,\"스크린샷(474).png\")\n",
    "print(file)\n",
    "def get_created_yyyymm(file):\n",
    "    metadata = os.stat(file)\n",
    "    created = datetime.utcfromtimestamp(metadata.st_mtime)\n",
    "    modified = datetime.utcfromtimestamp(metadata.st_ctime)\n",
    "    # return (str(created.year), str(created.month))\n",
    "    return (created.year, created.month)\n",
    "print(get_created_yyyymm(file))"
   ]
  },
  {
   "cell_type": "code",
   "execution_count": null,
   "metadata": {},
   "outputs": [],
   "source": [
    "# def copy_file(curdir)\n",
    "for i in range(len(main_dirs)):\n",
    "    sample = main_dirs[i]\n",
    "    curdir = os.path.abspath(os.path.curdir)\n",
    "    src = os.path.join(curdir)\n",
    "\n",
    "    # yyyy = \"yyyy\"\n",
    "    # mm = \"mm\"\n",
    "    (yyyy,mm) = get_created_yyyymm(os.path.join(src,sample))\n",
    "    dest = os.path.join(curdir,f\"{yyyy}\",f\"%02d\"%mm)\n",
    "    if not os.path.exists(dest):\n",
    "        print(src, dest)\n",
    "        os.makedirs(dest)\n",
    "\n",
    "    src = os.path.join(src,sample)\n",
    "    dest = os.path.join(dest,sample)\n",
    "    # print(os.path.isfile(src),os.path.isfile(dest))\n",
    "    if os.path.isfile(src):# and os.path.isdir(dest):\n",
    "        print(src)\n",
    "        print(dest)\n",
    "        shutil.move(src,dest)\n",
    "    else:\n",
    "        print(f\"error {src,dest}\")"
   ]
  },
  {
   "cell_type": "code",
   "execution_count": null,
   "metadata": {},
   "outputs": [],
   "source": [
    "#----------------------------------------------"
   ]
  },
  {
   "cell_type": "code",
   "execution_count": null,
   "metadata": {},
   "outputs": [],
   "source": [
    "# # every month at 6am,\n",
    "# # move all 'created last month' to './archive/yyyy-mm/'\n",
    "# PHOTOS = '{}\\\\photo-desktop\\\\'.format(ROOT)\n",
    "\n",
    "# os.listdir(PHOTOS)\n",
    "# f = os.listdir(PHOTOS)[-1] # most recent\n",
    "# origin = PHOTOS + f\n",
    "# print(origin)\n",
    "\n",
    "# today = d.datetime.today()\n",
    "# print(today.year,today.month)\n",
    "\n",
    "# dest = PHOTOS + 'archive\\\\%04d-%02d\\\\'%(2022,1)\n",
    "# if not os.path.exists(dest):\n",
    "#     os.makedirs(dest)\n",
    "# dest += f\n",
    "# print(dest)\n",
    "\n",
    "# try:\n",
    "#     os.listdir(dest)\n",
    "#     print(dest)\n",
    "# except FileNotFoundError as e:\n",
    "#     print(e)\n",
    "#     os.makedirs(dest)\n"
   ]
  },
  {
   "cell_type": "code",
   "execution_count": null,
   "metadata": {},
   "outputs": [],
   "source": [
    "# GET CREATED and MODIFIED \n",
    "# # https://docs.python.org/ko/3/library/os.html?highlight=os#os.stat\n",
    "# f_stat = os.stat('C:\\\\Users\\\\Hojin\\\\OneDrive - Sejong University\\\\photo-desktop\\\\archive\\\\2022-01\\\\ScreenshotPC_20220301-185920.jpg')\n",
    "# # st_mode: type and permissions\n",
    "# # st_ctime=creation(win) st_mtime=modification\n",
    "# created = d.datetime.utcfromtimestamp(f_stat.st_mtime)\n",
    "# modified = d.datetime.utcfromtimestamp(f_stat.st_ctime)\n",
    "# print(created, modified)\n",
    "\n",
    "# # CHECK IF TARGET MONTH\n"
   ]
  }
 ],
 "metadata": {
  "interpreter": {
   "hash": "2099fe86f8ae7b11ff1974837b42372860a5d27a2872793e75f14f9cea001d50"
  },
  "kernelspec": {
   "display_name": "Python 3.9.10 64-bit (windows store)",
   "language": "python",
   "name": "python3"
  },
  "language_info": {
   "codemirror_mode": {
    "name": "ipython",
    "version": 3
   },
   "file_extension": ".py",
   "mimetype": "text/x-python",
   "name": "python",
   "nbconvert_exporter": "python",
   "pygments_lexer": "ipython3",
   "version": "3.9.12"
  },
  "orig_nbformat": 4
 },
 "nbformat": 4,
 "nbformat_minor": 2
}
