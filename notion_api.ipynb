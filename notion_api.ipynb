{
 "cells": [
  {
   "cell_type": "code",
   "execution_count": 1,
   "metadata": {},
   "outputs": [
    {
     "data": {
      "text/plain": [
       "True"
      ]
     },
     "execution_count": 1,
     "metadata": {},
     "output_type": "execute_result"
    }
   ],
   "source": [
    "# imports\n",
    "import requests\n",
    "import json\n",
    "# dotenv\n",
    "from dotenv import load_dotenv\n",
    "import os\n",
    "load_dotenv()"
   ]
  },
  {
   "cell_type": "code",
   "execution_count": 2,
   "metadata": {},
   "outputs": [],
   "source": [
    "base_url = 'https://api.notion.com/v1/'\n",
    "key = os.getenv('NOTION_KEY')\n",
    "page_id = os.getenv('NOTION_PAGE_ID')\n",
    "all_content = []"
   ]
  },
  {
   "cell_type": "code",
   "execution_count": 3,
   "metadata": {},
   "outputs": [],
   "source": [
    "def GET_children(path,block_id):\n",
    "    url = base_url+path\n",
    "    headers = {\n",
    "        'Authorization': 'Bearer %s' % key,\n",
    "        \"Accept\": \"application/json\",\n",
    "        \"Notion-Version\": \"2021-08-16\"\n",
    "    }\n",
    "    result = requests.get(url, headers=headers)\n",
    "    for content in json.loads(result.text)['results']:\n",
    "        all_content.append(content)\n",
    "        if content['has_children'] == True:\n",
    "            id = content['id']\n",
    "            path = 'blocks/%s/children?page_size=100' % id\n",
    "            GET_children(path, id)\n",
    "        \n",
    "\n",
    "path = 'blocks/%s/children?page_size=100' % page_id\n",
    "result = GET_children(path, page_id)\n",
    "#### notion api can't GET text blocks that are separated vertically...??\n",
    "# print(result.text)"
   ]
  },
  {
   "cell_type": "code",
   "execution_count": 4,
   "metadata": {},
   "outputs": [],
   "source": [
    "# with open(\"output.json\",'w',encoding=\"utf-7\") as f:\n",
    "#     # f.write('[')\n",
    "#     json.dump(all_content,f)\n",
    "#     # for content in all_content:\n",
    "#         # json.dump(content)\n",
    "#         # f.write(str(content)+', ')\n",
    "#     # f.write(']')\n",
    "#     f.close()"
   ]
  },
  {
   "cell_type": "code",
   "execution_count": 5,
   "metadata": {},
   "outputs": [],
   "source": [
    "# f = open(\"output.json\",'r',encoding='utf-8')\n",
    "# lines = str(f.readlines())\n",
    "# items = json.loads(lines)\n",
    "# for item in items:\n",
    "#     print(item,'\\n\\n')\n",
    "#     # print(item[\"type\"])\n",
    "\n"
   ]
  },
  {
   "cell_type": "code",
   "execution_count": null,
   "metadata": {},
   "outputs": [],
   "source": []
  }
 ],
 "metadata": {
  "interpreter": {
   "hash": "2099fe86f8ae7b11ff1974837b42372860a5d27a2872793e75f14f9cea001d50"
  },
  "kernelspec": {
   "display_name": "Python 3.9.10 64-bit (windows store)",
   "language": "python",
   "name": "python3"
  },
  "language_info": {
   "codemirror_mode": {
    "name": "ipython",
    "version": 3
   },
   "file_extension": ".py",
   "mimetype": "text/x-python",
   "name": "python",
   "nbconvert_exporter": "python",
   "pygments_lexer": "ipython3",
   "version": "3.9.10"
  },
  "orig_nbformat": 4
 },
 "nbformat": 4,
 "nbformat_minor": 2
}
