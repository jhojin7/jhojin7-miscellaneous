{
 "cells": [
  {
   "cell_type": "markdown",
   "metadata": {},
   "source": [
    "lec 40 41"
   ]
  },
  {
   "cell_type": "code",
   "execution_count": 2,
   "metadata": {},
   "outputs": [],
   "source": [
    "url = 'https://google.com?name=abcde&password=1234'"
   ]
  },
  {
   "cell_type": "code",
   "execution_count": 3,
   "metadata": {},
   "outputs": [
    {
     "name": "stdout",
     "output_type": "stream",
     "text": [
      "https://google.com?name=abcde&password=1234\n",
      "https://google.com?name=abcde&password=1234\n",
      "ParseResult(scheme='https', netloc='google.com', path='', params='', query='name=abcde&password=1234', fragment='')\n"
     ]
    }
   ],
   "source": [
    "import urllib\n",
    "result = urllib.parse.urlparse(url)\n",
    "print(result.geturl())\n",
    "print(urllib.parse.urlunparse(result))\n",
    "print(result)"
   ]
  },
  {
   "cell_type": "code",
   "execution_count": 4,
   "metadata": {},
   "outputs": [
    {
     "name": "stdout",
     "output_type": "stream",
     "text": [
      "{'name': ['abcde'], 'password': ['1234']}\n",
      "[('name', 'abcde'), ('password', '1234')]\n"
     ]
    }
   ],
   "source": [
    "# parse_qs = dict, parse_qsl = list\n",
    "qs = urllib.parse.parse_qs(result.query)\n",
    "print(qs)\n",
    "qsl = urllib.parse.parse_qsl(result.query)\n",
    "print(qsl)"
   ]
  },
  {
   "cell_type": "markdown",
   "metadata": {},
   "source": [
    "lec 42 43"
   ]
  },
  {
   "cell_type": "code",
   "execution_count": 12,
   "metadata": {},
   "outputs": [
    {
     "name": "stdout",
     "output_type": "stream",
     "text": [
      "{'name': ['abcde'], 'password': ['1234']}\n",
      "ParseResult(scheme='https', netloc='google.com', path='', params='', query='name=%5B%27abcde%27%5D&password=%5B%271234%27%5D', fragment='')\n",
      "https://google.com?name=%5B%27abcde%27%5D&password=%5B%271234%27%5D\n"
     ]
    }
   ],
   "source": [
    "result = urllib.parse.urlparse(url)\n",
    "\n",
    "qs = urllib.parse.parse_qs(result.query)\n",
    "print(qs)\n",
    "test_url = result._replace(query=urllib.parse.urlencode(qs))\n",
    "print(test_url)\n",
    "qs['password'] = '5678'\n",
    "\n",
    "new_url = urllib.parse.urlunparse(test_url)\n",
    "print(new_url) # ????"
   ]
  }
 ],
 "metadata": {
  "interpreter": {
   "hash": "2099fe86f8ae7b11ff1974837b42372860a5d27a2872793e75f14f9cea001d50"
  },
  "kernelspec": {
   "display_name": "Python 3.9.10 64-bit (windows store)",
   "language": "python",
   "name": "python3"
  },
  "language_info": {
   "codemirror_mode": {
    "name": "ipython",
    "version": 3
   },
   "file_extension": ".py",
   "mimetype": "text/x-python",
   "name": "python",
   "nbconvert_exporter": "python",
   "pygments_lexer": "ipython3",
   "version": "3.9.10"
  },
  "orig_nbformat": 4
 },
 "nbformat": 4,
 "nbformat_minor": 2
}
