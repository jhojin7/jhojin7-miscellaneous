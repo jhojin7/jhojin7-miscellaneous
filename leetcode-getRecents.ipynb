{
 "cells": [
  {
   "cell_type": "code",
   "execution_count": 4,
   "metadata": {},
   "outputs": [],
   "source": [
    "# https://jerrynsh.com/how-i-sync-daily-leetcoding-challenge-to-todoist/\n",
    "# https://towardsdatascience.com/connecting-to-a-graphql-api-using-python-246dda927840\n",
    "import requests\n",
    "import json\n",
    "import pandas as pd\n",
    "import time\n",
    "\n",
    "username = 'jhojin7'"
   ]
  },
  {
   "cell_type": "code",
   "execution_count": 5,
   "metadata": {},
   "outputs": [],
   "source": [
    "def get_recentSubmissions(username):\n",
    "    base_url = 'https://leetcode.com/graphql/'\n",
    "    url = base_url\n",
    "    print(url)\n",
    "    new_query = \"\"\" \n",
    "    query {\n",
    "        recentSubmissionList(username:\"%s\") { \n",
    "            title   \n",
    "            titleSlug   \n",
    "            timestamp  \n",
    "            statusDisplay   \n",
    "            lang    \n",
    "            __typename\n",
    "        }\n",
    "    }\n",
    "    \"\"\" %(username)\n",
    "    # https://towardsdatascience.com/connecting-to-a-graphql-api-using-python-246dda927840\n",
    "    # return requests.post(url,headers=headers,data=new_query)\n",
    "    result = requests.post(url,json={'query':new_query})\n",
    "    print(result.status_code)\n",
    "    json_dump = json.loads(result.text)\n",
    "    # print(json_dump)\n",
    "    recents = json_dump['data']['recentSubmissionList']\n",
    "    recents_df = pd.DataFrame(recents)\n",
    "    # print(recents_df)\n",
    "    return recents_df\n"
   ]
  },
  {
   "cell_type": "code",
   "execution_count": null,
   "metadata": {},
   "outputs": [],
   "source": [
    "recents_df = get_recentSubmissions(username)\n",
    "recents_df.head()\n",
    "# recents_df.columns\n",
    "\n",
    "recents_df = recents_df.filter(['titleSlug','statusDisplay','timestamp'])\n",
    "recents_df = recents_df.rename(columns={'titleSlug':'Title', 'statusDisplay':'Status','timestamp':'Datetime'})\n",
    "print(f\"{username}'s Most Recent Submissions:\")\n",
    "# print(recents_df.sort_values(by='timestamp'))\n",
    "\n",
    "# times = recents_df['timestamp']\n",
    "for t in recents_df['Datetime']:\n",
    "    dtext = time.gmtime(int(t))\n",
    "    new_t = \"%d-%02d-%02d %02d:%02d:%02d\" %(dtext.tm_year,dtext.tm_mon,dtext.tm_mday,dtext.tm_hour,dtext.tm_min,dtext.tm_sec)\n",
    "    # print(t,new_t)\n",
    "    recents_df['Datetime'] = new_t\n",
    "\n",
    "print(recents_df.head())"
   ]
  },
  {
   "cell_type": "code",
   "execution_count": 8,
   "metadata": {},
   "outputs": [
    {
     "name": "stdout",
     "output_type": "stream",
     "text": [
      "           Title         Status             Datetime\n",
      "0  binary-search       Accepted  2022-02-06 10:33:05\n",
      "1  binary-search  Runtime Error  2022-02-06 10:33:05\n",
      "2  binary-search       Accepted  2022-02-06 10:33:05\n",
      "3  binary-search  Runtime Error  2022-02-06 10:33:05\n",
      "4  binary-search   Wrong Answer  2022-02-06 10:33:05\n"
     ]
    }
   ],
   "source": [
    "print(recents_df.head())\n",
    "\n",
    "\n",
    "# for q in recents_df.itertuples():\n",
    "#     # print(q)\n",
    "#     titleSlug = q.titleSlug\n",
    "#     questionLink = f\"https://leetcode.com/problems/{titleSlug}\"\n",
    "#     submissionLink = f\"https://\"\n",
    "#     print(questionLink)\n",
    "#     # print(submissionLink)\n"
   ]
  },
  {
   "cell_type": "code",
   "execution_count": null,
   "metadata": {},
   "outputs": [],
   "source": [
    "# print(\"{%Y}-{%m}-{%d}T{%H}:{%M}:{%S}\".format(dtext))\n",
    "# datetime.datetime(dtext.tm_year,dtext.tm_mon,dtext.tm_mday,dtext.tm_hour,)"
   ]
  },
  {
   "cell_type": "code",
   "execution_count": null,
   "metadata": {},
   "outputs": [],
   "source": [
    "# probably needs login auth to view the actual code submissions??...?\n",
    "def get_submissions(questionSlug):\n",
    "    base_url = 'https://leetcode.com/graphql/'\n",
    "    url = base_url\n",
    "    # offset = 0\n",
    "    # limit = 20\n",
    "    query = \"\"\"\n",
    "    query {\n",
    "      submissionList(questionSlug: \"%s\",offset:0,limit:20) {\n",
    "        submissions {\n",
    "          id\n",
    "          statusDisplay\n",
    "          lang\n",
    "          runtime\n",
    "          timestamp\n",
    "          url\n",
    "          isPending\n",
    "          memory\n",
    "          __typename\n",
    "        }\n",
    "        }\n",
    "      }\n",
    "    \"\"\" %(questionSlug)\n",
    "    result = requests.post(url, json={'query': query})\n",
    "    print(result.status_code)\n",
    "    json_dump = json.loads(result.text)\n",
    "    print(json_dump)\n",
    "    json_data = json_dump['data']['submissionList']\n",
    "    json_df = pd.DataFrame(json_data)\n",
    "    print(json_df)\n",
    "    return json_df\n",
    "\n",
    "titleSlug = \"binay-search\"\n",
    "# submits_df = get_submissions(titleSlug)\n",
    "# print(submits_df)\n",
    "\n",
    "\n",
    "# recents_df\n",
    "# for q in recents_df.itertuples():\n",
    "#     titleSlug = q.titleSlug\n",
    "#     print(titleSlug)\n",
    "#     submits_df = get_submissions(titleSlug)\n",
    "#     print(submits_df)\n",
    "\n"
   ]
  }
 ],
 "metadata": {
  "interpreter": {
   "hash": "2099fe86f8ae7b11ff1974837b42372860a5d27a2872793e75f14f9cea001d50"
  },
  "kernelspec": {
   "display_name": "Python 3.9.10 64-bit (windows store)",
   "language": "python",
   "name": "python3"
  },
  "language_info": {
   "codemirror_mode": {
    "name": "ipython",
    "version": 3
   },
   "file_extension": ".py",
   "mimetype": "text/x-python",
   "name": "python",
   "nbconvert_exporter": "python",
   "pygments_lexer": "ipython3",
   "version": "3.9.10"
  },
  "orig_nbformat": 4
 },
 "nbformat": 4,
 "nbformat_minor": 2
}
