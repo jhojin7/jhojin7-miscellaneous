{
 "cells": [
  {
   "cell_type": "code",
   "execution_count": 1,
   "metadata": {},
   "outputs": [],
   "source": [
    "# pip install tabulate"
   ]
  },
  {
   "cell_type": "code",
   "execution_count": 2,
   "metadata": {},
   "outputs": [
    {
     "name": "stdout",
     "output_type": "stream",
     "text": [
      "success queries.py\n"
     ]
    }
   ],
   "source": [
    "import requests\n",
    "import json\n",
    "import pandas as pd\n",
    "import datetime\n",
    "import time\n",
    "import os\n",
    "import queries # ./queries.py\n",
    "# https://jerrynsh.com/how-i-sync-daily-leetcoding-challenge-to-todoist/\n",
    "# https://towardsdatascience.com/connecting-to-a-graphql-api-using-python-246dda927840\n",
    "\n",
    "USERNAME = 'jhojin7'"
   ]
  },
  {
   "cell_type": "code",
   "execution_count": 3,
   "metadata": {},
   "outputs": [],
   "source": [
    "def get_recents(username):\n",
    "    base_url = 'https://leetcode.com/graphql/'\n",
    "    url = base_url\n",
    "    print(url)\n",
    "    new_query = \"\"\" \n",
    "    query {\n",
    "        recentSubmissionList(username:\"%s\") { \n",
    "            title   \n",
    "            titleSlug   \n",
    "            timestamp  \n",
    "            statusDisplay   \n",
    "            lang    \n",
    "            __typename\n",
    "        }\n",
    "    }\n",
    "    \"\"\" %(username)\n",
    "    # https://towardsdatascience.com/connecting-to-a-graphql-api-using-python-246dda927840\n",
    "    # return requests.post(url,headers=headers,data=new_query)\n",
    "    result = requests.post(url,json={'query':new_query})\n",
    "    print(result.status_code)\n",
    "    json_dump = json.loads(result.text)\n",
    "    # print(json_dump)\n",
    "    recents = json_dump['data']['recentSubmissionList']\n",
    "    recents_df = pd.DataFrame(recents)\n",
    "    # print(recents_df)\n",
    "    return recents_df\n"
   ]
  },
  {
   "cell_type": "code",
   "execution_count": 4,
   "metadata": {},
   "outputs": [
    {
     "name": "stdout",
     "output_type": "stream",
     "text": [
      "https://leetcode.com/graphql/\n",
      "200\n"
     ]
    }
   ],
   "source": [
    "\n",
    "def update_recents():\n",
    "    recents_df = get_recents(USERNAME)\n",
    "    recents_df.head()\n",
    "    # filter and rename only the content I need\n",
    "    recents_df = recents_df.filter(['titleSlug','statusDisplay','timestamp'])\n",
    "    recents_df = recents_df.rename(columns={'titleSlug':'Title', 'statusDisplay':'Status','timestamp':'Datetime'})\n",
    "    # change datetime format from epoch-seconds to iso8601\n",
    "    for t in recents_df['Datetime']:\n",
    "        # stop if datetime is already string format\n",
    "        if t.isnumeric() == False: break\n",
    "        dtext = time.localtime(int(t))\n",
    "        # iso8601 datetime format string\n",
    "        new_t = \"%d-%02d-%02d %02d:%02d:%02d\" %(dtext.tm_year,dtext.tm_mon,dtext.tm_mday,dtext.tm_hour,dtext.tm_min,dtext.tm_sec)\n",
    "        recents_df['Datetime'] = new_t\n",
    "\n",
    "    # output content\n",
    "    # print(f\"{username}'s Most Recent Submissions:\")\n",
    "    # print(recents_df)\n",
    "\n",
    "    # write to file\n",
    "    today = time.time()\n",
    "    now = time.strftime(\"%Y-%m-%d %H:%M:%S\")\n",
    "    output = f\"\"\"# {USERNAME}'s Most Recent Submissions:\\nUpdated: {now}\\n\"\"\"\n",
    "\n",
    "    with open(\"leetcode-recents.md\",'w') as f:\n",
    "        # output text\n",
    "        f.writelines(output)\n",
    "        # 10 top rows to markdown table\n",
    "        f.writelines(str(recents_df.head(10).to_markdown()))\n",
    "    f.close()\n",
    "update_recents()"
   ]
  },
  {
   "cell_type": "code",
   "execution_count": 5,
   "metadata": {},
   "outputs": [
    {
     "name": "stdout",
     "output_type": "stream",
     "text": [
      "https://leetcode.com/graphql/ 200\n"
     ]
    },
    {
     "data": {
      "text/html": [
       "<div>\n",
       "<style scoped>\n",
       "    .dataframe tbody tr th:only-of-type {\n",
       "        vertical-align: middle;\n",
       "    }\n",
       "\n",
       "    .dataframe tbody tr th {\n",
       "        vertical-align: top;\n",
       "    }\n",
       "\n",
       "    .dataframe thead th {\n",
       "        text-align: right;\n",
       "    }\n",
       "</style>\n",
       "<table border=\"1\" class=\"dataframe\">\n",
       "  <thead>\n",
       "    <tr style=\"text-align: right;\">\n",
       "      <th></th>\n",
       "      <th>date</th>\n",
       "      <th>userStatus</th>\n",
       "      <th>link</th>\n",
       "      <th>question</th>\n",
       "    </tr>\n",
       "  </thead>\n",
       "  <tbody>\n",
       "    <tr>\n",
       "      <th>0</th>\n",
       "      <td>2022-03-01</td>\n",
       "      <td>NotStart</td>\n",
       "      <td>/problems/counting-bits/</td>\n",
       "      <td>{'questionFrontendId': '338', 'title': 'Counti...</td>\n",
       "    </tr>\n",
       "    <tr>\n",
       "      <th>1</th>\n",
       "      <td>2022-03-02</td>\n",
       "      <td>NotStart</td>\n",
       "      <td>/problems/is-subsequence/</td>\n",
       "      <td>{'questionFrontendId': '392', 'title': 'Is Sub...</td>\n",
       "    </tr>\n",
       "    <tr>\n",
       "      <th>2</th>\n",
       "      <td>2022-03-03</td>\n",
       "      <td>NotStart</td>\n",
       "      <td>/problems/arithmetic-slices/</td>\n",
       "      <td>{'questionFrontendId': '413', 'title': 'Arithm...</td>\n",
       "    </tr>\n",
       "    <tr>\n",
       "      <th>3</th>\n",
       "      <td>2022-03-04</td>\n",
       "      <td>NotStart</td>\n",
       "      <td>/problems/champagne-tower/</td>\n",
       "      <td>{'questionFrontendId': '799', 'title': 'Champa...</td>\n",
       "    </tr>\n",
       "    <tr>\n",
       "      <th>4</th>\n",
       "      <td>2022-03-05</td>\n",
       "      <td>NotStart</td>\n",
       "      <td>/problems/delete-and-earn/</td>\n",
       "      <td>{'questionFrontendId': '740', 'title': 'Delete...</td>\n",
       "    </tr>\n",
       "  </tbody>\n",
       "</table>\n",
       "</div>"
      ],
      "text/plain": [
       "         date userStatus                          link  \\\n",
       "0  2022-03-01   NotStart      /problems/counting-bits/   \n",
       "1  2022-03-02   NotStart     /problems/is-subsequence/   \n",
       "2  2022-03-03   NotStart  /problems/arithmetic-slices/   \n",
       "3  2022-03-04   NotStart    /problems/champagne-tower/   \n",
       "4  2022-03-05   NotStart    /problems/delete-and-earn/   \n",
       "\n",
       "                                            question  \n",
       "0  {'questionFrontendId': '338', 'title': 'Counti...  \n",
       "1  {'questionFrontendId': '392', 'title': 'Is Sub...  \n",
       "2  {'questionFrontendId': '413', 'title': 'Arithm...  \n",
       "3  {'questionFrontendId': '799', 'title': 'Champa...  \n",
       "4  {'questionFrontendId': '740', 'title': 'Delete...  "
      ]
     },
     "execution_count": 5,
     "metadata": {},
     "output_type": "execute_result"
    }
   ],
   "source": [
    "# query_dailyCodingChallenge = \"\"\"\n",
    "# query dailyCodingQuestionRecords(year: %s, month: %s) {\n",
    "#   dailyCodingChallengeV2(year: %s, month: %s) {\n",
    "#     challenges {\n",
    "#       date\n",
    "#       userStatus\n",
    "#       link\n",
    "#       question {\n",
    "#         questionFrontendId\n",
    "#         title\n",
    "#         titleSlug\n",
    "#       }\n",
    "#     }\n",
    "#     weeklyChallenges {\n",
    "#       date\n",
    "#       userStatus\n",
    "#       link\n",
    "#       question {\n",
    "#         questionFrontendId\n",
    "#         title\n",
    "#         titleSlug\n",
    "#       }\n",
    "#     }\n",
    "#   }\n",
    "# }\n",
    "# \"\"\" %(yyyy, mm, yyyy, mm)\n",
    "\n",
    "def f_write(fname,lines):\n",
    "    with open(fname,'w') as f:\n",
    "        f.writelines(lines)\n",
    "    f.close()\n",
    "\n",
    "yyyy = '2022'\n",
    "mm = '3'\n",
    "\n",
    "def get_dailyChallenges(query):\n",
    "  base_url = 'https://leetcode.com/graphql/'\n",
    "  url = base_url\n",
    "  # https://towardsdatascience.com/connecting-to-a-graphql-api-using-python-246dda927840\n",
    "  # return requests.post(url,headers=headers,data=new_query)\n",
    "  result = requests.post(url,json={'query':query%(yyyy,mm)})\n",
    "  print(url, result.status_code)\n",
    "  json_dump = json.loads(result.text)\n",
    "  # print(json_dump)\n",
    "  dailyChallenges = json_dump['data']['dailyCodingChallengeV2']['challenges']\n",
    "  # print(dailyChallenges)\n",
    "  daily_df = pd.DataFrame(dailyChallenges)\n",
    "  f_write('leetcode_daily_%s-%0s.md'%(yyyy,mm),daily_df.to_markdown())\n",
    "  return daily_df\n",
    "  # print(daily_df)\n",
    "\n",
    "daily_df = get_dailyChallenges(queries.QUERY_DAILYCODINGCHALLENGE)\n",
    "daily_df"
   ]
  },
  {
   "cell_type": "code",
   "execution_count": 6,
   "metadata": {},
   "outputs": [
    {
     "name": "stdout",
     "output_type": "stream",
     "text": [
      "338 counting-bits\n"
     ]
    }
   ],
   "source": [
    "# data.dailyCodingChallengeV2.challenges[1].question.questionFrontendId\n",
    "daily_df['question']\n",
    "titleSlug = daily_df['question'][0]['titleSlug']\n",
    "qId = daily_df['question'][0]['questionFrontendId']\n",
    "print(qId, titleSlug)\n"
   ]
  },
  {
   "cell_type": "code",
   "execution_count": 7,
   "metadata": {},
   "outputs": [],
   "source": [
    "# for q in recents_df.itertuples():\n",
    "#     # print(q)\n",
    "#     titleSlug = q.titleSlug\n",
    "#     questionLink = f\"https://leetcode.com/problems/{titleSlug}\"\n",
    "#     submissionLink = f\"https://\"\n",
    "#     print(questionLink)\n",
    "#     # print(submissionLink)"
   ]
  },
  {
   "cell_type": "code",
   "execution_count": 8,
   "metadata": {},
   "outputs": [],
   "source": [
    "# print(\"{%Y}-{%m}-{%d}T{%H}:{%M}:{%S}\".format(dtext))\n",
    "# datetime.datetime(dtext.tm_year,dtext.tm_mon,dtext.tm_mday,dtext.tm_hour,)"
   ]
  },
  {
   "cell_type": "code",
   "execution_count": 9,
   "metadata": {},
   "outputs": [],
   "source": [
    "# probably needs login auth to view the actual code submissions??...?\n",
    "def get_submissions(query,questionSlug):\n",
    "    base_url = 'https://leetcode.com/graphql/'\n",
    "    url = base_url\n",
    "    headers = {\"Authorization\": \"Bear token\"}\n",
    "    result = requests.post(url, \n",
    "        json={'query': query%(questionSlug)})#, headers=headers)\n",
    "    print(result.status_code) # 499= maybe CSRF?\n",
    "    # print(result.content)\n",
    "    json_dump = json.loads(result.text)\n",
    "    print(json_dump)\n",
    "    json_data = json_dump['data']['submissionList']\n",
    "    json_df = pd.DataFrame(json_data)\n",
    "    print(json_df)\n",
    "    return json_df\n",
    "\n",
    "# questionSlug = \"binay-search\"\n",
    "# submits_df = get_submissions(queries.QUERY_SUBMISSIONS,questionSlug)\n",
    "# print(submits_df)\n",
    "\n",
    "\n",
    "# recents_df\n",
    "# for q in recents_df.itertuples():\n",
    "#     titleSlug = q.titleSlug\n",
    "#     print(titleSlug)\n",
    "#     submits_df = get_submissions(titleSlug)\n",
    "#     print(submits_df)\n",
    "\n"
   ]
  }
 ],
 "metadata": {
  "interpreter": {
   "hash": "2099fe86f8ae7b11ff1974837b42372860a5d27a2872793e75f14f9cea001d50"
  },
  "kernelspec": {
   "display_name": "Python 3.9.10 64-bit (windows store)",
   "language": "python",
   "name": "python3"
  },
  "language_info": {
   "codemirror_mode": {
    "name": "ipython",
    "version": 3
   },
   "file_extension": ".py",
   "mimetype": "text/x-python",
   "name": "python",
   "nbconvert_exporter": "python",
   "pygments_lexer": "ipython3",
   "version": "3.9.10"
  },
  "orig_nbformat": 4
 },
 "nbformat": 4,
 "nbformat_minor": 2
}
