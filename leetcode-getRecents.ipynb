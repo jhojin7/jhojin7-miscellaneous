{
 "cells": [
  {
   "cell_type": "code",
   "execution_count": 28,
   "metadata": {},
   "outputs": [],
   "source": [
    "# https://jerrynsh.com/how-i-sync-daily-leetcoding-challenge-to-todoist/\n",
    "# https://towardsdatascience.com/connecting-to-a-graphql-api-using-python-246dda927840\n",
    "import requests\n",
    "import json\n",
    "import pandas as pd\n",
    "import datetime\n",
    "import time\n",
    "import os\n",
    "\n",
    "USERNAME = 'jhojin7'"
   ]
  },
  {
   "cell_type": "code",
   "execution_count": 29,
   "metadata": {},
   "outputs": [],
   "source": [
    "# pip install tabulate"
   ]
  },
  {
   "cell_type": "code",
   "execution_count": 30,
   "metadata": {},
   "outputs": [],
   "source": [
    "def get_recents(username):\n",
    "    base_url = 'https://leetcode.com/graphql/'\n",
    "    url = base_url\n",
    "    print(url)\n",
    "    new_query = \"\"\" \n",
    "    query {\n",
    "        recentSubmissionList(username:\"%s\") { \n",
    "            title   \n",
    "            titleSlug   \n",
    "            timestamp  \n",
    "            statusDisplay   \n",
    "            lang    \n",
    "            __typename\n",
    "        }\n",
    "    }\n",
    "    \"\"\" %(username)\n",
    "    # https://towardsdatascience.com/connecting-to-a-graphql-api-using-python-246dda927840\n",
    "    # return requests.post(url,headers=headers,data=new_query)\n",
    "    result = requests.post(url,json={'query':new_query})\n",
    "    print(result.status_code)\n",
    "    json_dump = json.loads(result.text)\n",
    "    # print(json_dump)\n",
    "    recents = json_dump['data']['recentSubmissionList']\n",
    "    recents_df = pd.DataFrame(recents)\n",
    "    # print(recents_df)\n",
    "    return recents_df\n"
   ]
  },
  {
   "cell_type": "code",
   "execution_count": 37,
   "metadata": {},
   "outputs": [],
   "source": [
    "def update_recents():\n",
    "    recents_df = get_recents(USERNAME)\n",
    "    recents_df.head()\n",
    "    # filter and rename only the content I need\n",
    "    recents_df = recents_df.filter(['titleSlug','statusDisplay','timestamp'])\n",
    "    recents_df = recents_df.rename(columns={'titleSlug':'Title', 'statusDisplay':'Status','timestamp':'Datetime'})\n",
    "\n",
    "    # change datetime format from epoch-seconds to iso8601\n",
    "    for t in recents_df['Datetime']:\n",
    "        # stop if datetime is already string format\n",
    "        if t.isnumeric() == False: break\n",
    "        dtext = time.localtime(int(t))\n",
    "        # iso8601 datetime format string\n",
    "        new_t = \"%d-%02d-%02d %02d:%02d:%02d\" %(dtext.tm_year,dtext.tm_mon,dtext.tm_mday,dtext.tm_hour,dtext.tm_min,dtext.tm_sec)\n",
    "        recents_df['Datetime'] = new_t\n",
    "\n",
    "    # output content\n",
    "    # print(f\"{username}'s Most Recent Submissions:\")\n",
    "    # print(recents_df)\n",
    "\n",
    "    # write to file\n",
    "    today = time.time()\n",
    "    now = time.strftime(\"%Y-%m-%d %H:%M:%S\")\n",
    "    output = f\"\"\"# {USERNAME}'s Most Recent Submissions:\\nUpdated: {now}\\n\"\"\"\n",
    "\n",
    "    with open(\"README_.md\",'w') as f:\n",
    "        # output text\n",
    "        f.writelines(output)\n",
    "        # 10 top rows to markdown table\n",
    "        f.writelines(str(recents_df.head(10).to_markdown()))\n",
    "    f.close()"
   ]
  },
  {
   "cell_type": "code",
   "execution_count": 38,
   "metadata": {},
   "outputs": [
    {
     "name": "stdout",
     "output_type": "stream",
     "text": [
      "https://leetcode.com/graphql/\n",
      "200\n"
     ]
    }
   ],
   "source": [
    "update_recents()"
   ]
  },
  {
   "cell_type": "code",
   "execution_count": 33,
   "metadata": {},
   "outputs": [],
   "source": [
    "\n",
    "query_dailyCodingChallenge = \"\"\"\n",
    "    query questionOfToday {\n",
    "  activeDailyCodingChallengeQuestion {\n",
    "    date\n",
    "    userStatus\n",
    "    link\n",
    "    question {\n",
    "      acRate\n",
    "      difficulty\n",
    "      freqBar\n",
    "      frontendQuestionId: questionFrontendId\n",
    "      isFavor\n",
    "      paidOnly: isPaidOnly\n",
    "      status\n",
    "      title\n",
    "      titleSlug\n",
    "      hasVideoSolution\n",
    "      hasSolution\n",
    "      topicTags {\n",
    "        name\n",
    "        id\n",
    "        slug\n",
    "      }\n",
    "    }\n",
    "  }\n",
    "}\n",
    "\"\"\"\n",
    "\n",
    "    "
   ]
  },
  {
   "cell_type": "code",
   "execution_count": 34,
   "metadata": {},
   "outputs": [],
   "source": [
    "# for q in recents_df.itertuples():\n",
    "#     # print(q)\n",
    "#     titleSlug = q.titleSlug\n",
    "#     questionLink = f\"https://leetcode.com/problems/{titleSlug}\"\n",
    "#     submissionLink = f\"https://\"\n",
    "#     print(questionLink)\n",
    "#     # print(submissionLink)"
   ]
  },
  {
   "cell_type": "code",
   "execution_count": 35,
   "metadata": {},
   "outputs": [],
   "source": [
    "# print(\"{%Y}-{%m}-{%d}T{%H}:{%M}:{%S}\".format(dtext))\n",
    "# datetime.datetime(dtext.tm_year,dtext.tm_mon,dtext.tm_mday,dtext.tm_hour,)"
   ]
  },
  {
   "cell_type": "code",
   "execution_count": 36,
   "metadata": {},
   "outputs": [],
   "source": [
    "# probably needs login auth to view the actual code submissions??...?\n",
    "def get_submissions(questionSlug):\n",
    "    base_url = 'https://leetcode.com/graphql/'\n",
    "    url = base_url\n",
    "    # offset = 0\n",
    "    # limit = 20\n",
    "    query = \"\"\"\n",
    "    query {\n",
    "      submissionList(questionSlug: \"%s\",offset:0,limit:20) {\n",
    "        submissions {\n",
    "          id\n",
    "          statusDisplay\n",
    "          lang\n",
    "          runtime\n",
    "          timestamp\n",
    "          url\n",
    "          isPending\n",
    "          memory\n",
    "          __typename\n",
    "        }\n",
    "        }\n",
    "      }\n",
    "    \"\"\" %(questionSlug)\n",
    "    result = requests.post(url, json={'query': query})\n",
    "    print(result.status_code)\n",
    "    json_dump = json.loads(result.text)\n",
    "    print(json_dump)\n",
    "    json_data = json_dump['data']['submissionList']\n",
    "    json_df = pd.DataFrame(json_data)\n",
    "    print(json_df)\n",
    "    return json_df\n",
    "\n",
    "titleSlug = \"binay-search\"\n",
    "# submits_df = get_submissions(titleSlug)\n",
    "# print(submits_df)\n",
    "\n",
    "\n",
    "# recents_df\n",
    "# for q in recents_df.itertuples():\n",
    "#     titleSlug = q.titleSlug\n",
    "#     print(titleSlug)\n",
    "#     submits_df = get_submissions(titleSlug)\n",
    "#     print(submits_df)\n",
    "\n"
   ]
  }
 ],
 "metadata": {
  "interpreter": {
   "hash": "2099fe86f8ae7b11ff1974837b42372860a5d27a2872793e75f14f9cea001d50"
  },
  "kernelspec": {
   "display_name": "Python 3.9.10 64-bit (windows store)",
   "language": "python",
   "name": "python3"
  },
  "language_info": {
   "codemirror_mode": {
    "name": "ipython",
    "version": 3
   },
   "file_extension": ".py",
   "mimetype": "text/x-python",
   "name": "python",
   "nbconvert_exporter": "python",
   "pygments_lexer": "ipython3",
   "version": "3.9.10"
  },
  "orig_nbformat": 4
 },
 "nbformat": 4,
 "nbformat_minor": 2
}
