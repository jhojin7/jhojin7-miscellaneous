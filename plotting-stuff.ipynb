{
 "cells": [
  {
   "cell_type": "code",
   "execution_count": 3,
   "metadata": {},
   "outputs": [],
   "source": [
    "import pandas as pd\n",
    "import matplotlib.pyplot as plt\n",
    "# themes = ['default','dark_background','classic','ggplot','seaborn']  \n",
    "# https://stackoverflow.com/a/49733577/3413574\n",
    "# https://www.python-graph-gallery.com/donut-plot/\n",
    "# https://ppcexpo.com/blog/radial-bar-chart\n",
    "# https://www.data-to-viz.com/caveat/circular_barplot_accordeon.html\n",
    "# https://support.sisense.com/kb/en/article/chart-type-radial-bar-chart-in-matplotlib-python\n",
    "# https://www.python-graph-gallery.com/circular-barplot-basic\n",
    "# https://datavizcatalogue.com/methods/donut_chart.html\n",
    "# https://jingwen-z.github.io/data-viz-with-matplotlib-series3-pie-chart/\n",
    "# https://datasciencepr.com/what-is-radial-bar-chart/"
   ]
  },
  {
   "cell_type": "code",
   "execution_count": 4,
   "metadata": {},
   "outputs": [
    {
     "name": "stdout",
     "output_type": "stream",
     "text": [
      "steps 925 3000\n",
      "active_time 10 40\n",
      "calories 30 460\n"
     ]
    },
    {
     "data": {
      "image/png": "[encoded data removed]",
      "text/plain": [
       "<Figure size 640x480 with 1 Axes>"
      ]
     },
     "metadata": {},
     "output_type": "display_data"
    }
   ],
   "source": [
    "plt.style.use(\"default\") \n",
    "columns = [\"steps\",\"active_time\",\"calories\"]\n",
    "data = [925,10,30]\n",
    "total = [3000,40,460]\n",
    "radii = [1.3,1,0.7]\n",
    "BG = \"white\"\n",
    "CENTER = \"white\"\n",
    "colors = [\"green\",\"blue\",\"pink\"]\n",
    "LEGEND_LOC = \"center\" # upper(lower,center) (left,right,center)\n",
    "center_circle = plt.Circle((0,0),0.4,color=CENTER)\n",
    "\n",
    "for col,data,tot,radius,color\\\n",
    "in zip(columns,data,total,radii,colors):\n",
    "    print(col,data,tot)\n",
    "    # the data i want comes last\n",
    "    circle = plt.pie([tot-data,data], radius=radius,\n",
    "        startangle=90, frame=False, colors=[BG,color],\n",
    "        labels=[None,col], labeldistance=None)\n",
    "fig = plt.gcf()\n",
    "fig.gca().add_artist(center_circle)\n",
    "plt.legend(loc=LEGEND_LOC, fontsize=8)\n",
    "plt.show()\n",
    "\n",
    "fig.figsize = (1,10)\n",
    "fig.savefig(fname=\"donutplot.jpg\")\n",
    "# fig.savefig(fname=\"donutplot.svg\")"
   ]
  }
 ],
 "metadata": {
  "interpreter": {
   "hash": "552604fba8b52ab3f4fd3d0d63f792377da90ee558a7abfa38d318b5150eccb6"
  },
  "kernelspec": {
   "display_name": "Python 3.9.13 64-bit (windows store)",
   "language": "python",
   "name": "python3"
  },
  "language_info": {
   "codemirror_mode": {
    "name": "ipython",
    "version": 3
   },
   "file_extension": ".py",
   "mimetype": "text/x-python",
   "name": "python",
   "nbconvert_exporter": "python",
   "pygments_lexer": "ipython3",
   "version": "3.9.13"
  },
  "orig_nbformat": 4
 },
 "nbformat": 4,
 "nbformat_minor": 2
}
