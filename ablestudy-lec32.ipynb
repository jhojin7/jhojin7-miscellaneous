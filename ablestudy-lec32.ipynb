{
 "cells": [
  {
   "cell_type": "markdown",
   "metadata": {},
   "source": [
    "# ablestudy-2022-02-28\n",
    "lecture 32-33"
   ]
  },
  {
   "cell_type": "code",
   "execution_count": 1,
   "metadata": {},
   "outputs": [],
   "source": [
    "import json"
   ]
  },
  {
   "cell_type": "code",
   "execution_count": 22,
   "metadata": {},
   "outputs": [
    {
     "name": "stdout",
     "output_type": "stream",
     "text": [
      "<class 'dict'>\n",
      "<class 'str'>\n",
      "{\"id\": 1004, \"name\": \"foo\", \"age\": 20, \"email\": \"foo@gmail.com\", \"logdata\": [{\"date\": \"2010-01-13\", \"device\": \"pc\"}, {\"date\": \"2010-01-14\", \"device\": \"pc\"}, {\"date\": \"2010-01-15\", \"device\": \"pc\"}]}\n"
     ]
    }
   ],
   "source": [
    "# JSON to string\n",
    "members = {\n",
    "    'id':1004,\n",
    "    'name':'foo',\n",
    "    'age':20,\n",
    "    'email':'foo@gmail.com',\n",
    "    'logdata':[\n",
    "        {'date':'2010-01-13','device':'pc'},\n",
    "        {'date':'2010-01-14','device':'pc'},\n",
    "        {'date':'2010-01-15','device':'pc'},\n",
    "    ]\n",
    "}\n",
    "print(type(members))\n",
    "\n",
    "jsonStr = json.dumps(members)\n",
    "print(type(jsonStr))\n",
    "print(jsonStr)"
   ]
  },
  {
   "cell_type": "code",
   "execution_count": 23,
   "metadata": {},
   "outputs": [
    {
     "name": "stdout",
     "output_type": "stream",
     "text": [
      "{\n",
      "    \"id\": 1004,\n",
      "    \"name\": \"foo\",\n",
      "    \"age\": 20,\n",
      "    \"email\": \"foo@gmail.com\",\n",
      "    \"logdata\": [\n",
      "        {\n",
      "            \"date\": \"2010-01-13\",\n",
      "            \"device\": \"pc\"\n",
      "        },\n",
      "        {\n",
      "            \"date\": \"2010-01-14\",\n",
      "            \"device\": \"pc\"\n",
      "        },\n",
      "        {\n",
      "            \"date\": \"2010-01-15\",\n",
      "            \"device\": \"pc\"\n",
      "        }\n",
      "    ]\n",
      "}\n"
     ]
    }
   ],
   "source": [
    "# JSON to string with indent\n",
    "jsonStr = json.dumps(members, indent=4)\n",
    "print(jsonStr)"
   ]
  },
  {
   "cell_type": "code",
   "execution_count": 30,
   "metadata": {},
   "outputs": [
    {
     "name": "stdout",
     "output_type": "stream",
     "text": [
      "<class 'dict'>\n",
      "{'id': 1004, 'name': 'foo', 'age': 20, 'email': 'foo@gmail.com', 'logdata': [{'date': '2010-01-13', 'device': 'pc'}, {'date': '2010-01-14', 'device': 'pc'}, {'date': '2010-01-15', 'device': 'pc'}]}\n"
     ]
    }
   ],
   "source": [
    "jsonObj = json.loads(jsonStr)\n",
    "print(type(jsonObj))\n",
    "print(jsonObj)\n",
    "\n",
    "# all \n",
    "# for x in jsonObj:\n",
    "#     print(x,jsonObj[x])\n"
   ]
  },
  {
   "cell_type": "code",
   "execution_count": 29,
   "metadata": {},
   "outputs": [
    {
     "name": "stdout",
     "output_type": "stream",
     "text": [
      "Access date is 2010-01-13 and device is pc.\n",
      "Access date is 2010-01-14 and device is pc.\n",
      "Access date is 2010-01-15 and device is pc.\n"
     ]
    }
   ],
   "source": [
    "# print all logs\n",
    "for log in jsonObj['logdata']:\n",
    "    print(f\"Access date is {log['date']} and device is {log['device']}.\")"
   ]
  }
 ],
 "metadata": {
  "interpreter": {
   "hash": "2099fe86f8ae7b11ff1974837b42372860a5d27a2872793e75f14f9cea001d50"
  },
  "kernelspec": {
   "display_name": "Python 3.9.10 64-bit (windows store)",
   "language": "python",
   "name": "python3"
  },
  "language_info": {
   "codemirror_mode": {
    "name": "ipython",
    "version": 3
   },
   "file_extension": ".py",
   "mimetype": "text/x-python",
   "name": "python",
   "nbconvert_exporter": "python",
   "pygments_lexer": "ipython3",
   "version": "3.9.10"
  },
  "orig_nbformat": 4
 },
 "nbformat": 4,
 "nbformat_minor": 2
}
