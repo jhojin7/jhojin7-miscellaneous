{
 "cells": [
  {
   "cell_type": "markdown",
   "metadata": {},
   "source": [
    "# ablestudy-2022-02-28\n",
    "lec 31-36"
   ]
  },
  {
   "cell_type": "code",
   "execution_count": 48,
   "metadata": {},
   "outputs": [
    {
     "name": "stdout",
     "output_type": "stream",
     "text": [
      "<class 'dict'> {'name': (1, 2)}\n",
      "<class 'list'> ['name']\n"
     ]
    }
   ],
   "source": [
    "a = {'name':(1,2)} #dict\n",
    "print(type(a), a)\n",
    "# <class 'dict'>\n",
    "# {'name': (1, 2)}\n",
    "\n",
    "b = list(a)\n",
    "print(type(b), b)\n",
    "# <class 'list'>\n",
    "# ['name'] "
   ]
  },
  {
   "cell_type": "markdown",
   "metadata": {},
   "source": [
    "json module"
   ]
  },
  {
   "cell_type": "code",
   "execution_count": 49,
   "metadata": {},
   "outputs": [],
   "source": [
    "import json"
   ]
  },
  {
   "cell_type": "code",
   "execution_count": 50,
   "metadata": {},
   "outputs": [
    {
     "name": "stdout",
     "output_type": "stream",
     "text": [
      "<class 'dict'>\n",
      "<class 'str'>\n",
      "{\"id\": 1004, \"name\": \"foo\", \"age\": 20, \"email\": \"foo@gmail.com\", \"logdata\": [{\"date\": \"2010-01-13\", \"device\": \"pc\"}, {\"date\": \"2010-01-14\", \"device\": \"pc\"}, {\"date\": \"2010-01-15\", \"device\": \"pc\"}]}\n"
     ]
    }
   ],
   "source": [
    "# JSON to string\n",
    "members = {\n",
    "    'id':1004,\n",
    "    'name':'foo',\n",
    "    'age':20,\n",
    "    'email':'foo@gmail.com',\n",
    "    'logdata':[\n",
    "        {'date':'2010-01-13','device':'pc'},\n",
    "        {'date':'2010-01-14','device':'pc'},\n",
    "        {'date':'2010-01-15','device':'pc'},\n",
    "    ]\n",
    "}\n",
    "print(type(members))\n",
    "\n",
    "jsonStr = json.dumps(members)\n",
    "print(type(jsonStr))\n",
    "print(jsonStr)"
   ]
  },
  {
   "cell_type": "code",
   "execution_count": 51,
   "metadata": {},
   "outputs": [
    {
     "name": "stdout",
     "output_type": "stream",
     "text": [
      "{\n",
      "    \"id\": 1004,\n",
      "    \"name\": \"foo\",\n",
      "    \"age\": 20,\n",
      "    \"email\": \"foo@gmail.com\",\n",
      "    \"logdata\": [\n",
      "        {\n",
      "            \"date\": \"2010-01-13\",\n",
      "            \"device\": \"pc\"\n",
      "        },\n",
      "        {\n",
      "            \"date\": \"2010-01-14\",\n",
      "            \"device\": \"pc\"\n",
      "        },\n",
      "        {\n",
      "            \"date\": \"2010-01-15\",\n",
      "            \"device\": \"pc\"\n",
      "        }\n",
      "    ]\n",
      "}\n"
     ]
    }
   ],
   "source": [
    "# JSON to string with indent\n",
    "jsonStr = json.dumps(members, indent=4)\n",
    "print(jsonStr)"
   ]
  },
  {
   "cell_type": "code",
   "execution_count": 52,
   "metadata": {},
   "outputs": [
    {
     "name": "stdout",
     "output_type": "stream",
     "text": [
      "<class 'dict'>\n",
      "{'id': 1004, 'name': 'foo', 'age': 20, 'email': 'foo@gmail.com', 'logdata': [{'date': '2010-01-13', 'device': 'pc'}, {'date': '2010-01-14', 'device': 'pc'}, {'date': '2010-01-15', 'device': 'pc'}]}\n"
     ]
    }
   ],
   "source": [
    "jsonObj = json.loads(jsonStr)\n",
    "print(type(jsonObj))\n",
    "print(jsonObj)\n",
    "\n",
    "# all \n",
    "# for x in jsonObj:\n",
    "#     print(x,jsonObj[x])\n"
   ]
  },
  {
   "cell_type": "code",
   "execution_count": 53,
   "metadata": {},
   "outputs": [
    {
     "name": "stdout",
     "output_type": "stream",
     "text": [
      "Access date is 2010-01-13 and device is pc.\n",
      "Access date is 2010-01-14 and device is pc.\n",
      "Access date is 2010-01-15 and device is pc.\n"
     ]
    }
   ],
   "source": [
    "# print all logs\n",
    "for log in jsonObj['logdata']:\n",
    "    print(f\"Access date is {log['date']} and device is {log['device']}.\")"
   ]
  },
  {
   "cell_type": "code",
   "execution_count": 54,
   "metadata": {},
   "outputs": [
    {
     "name": "stdout",
     "output_type": "stream",
     "text": [
      "('aaa', 100)\n",
      "('bbb', 200)\n",
      "('ccc', 300)\n",
      "('ddd', 400)\n"
     ]
    }
   ],
   "source": [
    "# dict methods\n",
    "test_dict = {'aaa':100,'bbb':200,'ccc':300,'ddd':400}\n",
    "for item in test_dict.items():\n",
    "    print(item) # ('aaa', 100)"
   ]
  },
  {
   "cell_type": "code",
   "execution_count": 55,
   "metadata": {},
   "outputs": [
    {
     "name": "stdout",
     "output_type": "stream",
     "text": [
      "aaa\n",
      "bbb\n",
      "ccc\n",
      "ddd\n",
      "100\n",
      "200\n",
      "300\n",
      "400\n"
     ]
    }
   ],
   "source": [
    "for key in test_dict.keys():\n",
    "    print(key) # aaa\n",
    "for val in test_dict.values():\n",
    "    print(val) # 100"
   ]
  },
  {
   "cell_type": "markdown",
   "metadata": {},
   "source": [
    "dict methods contd"
   ]
  },
  {
   "cell_type": "code",
   "execution_count": 56,
   "metadata": {},
   "outputs": [
    {
     "name": "stdout",
     "output_type": "stream",
     "text": [
      "{'aaa': 100, 'bbb': 200, 'ccc': 300, 'ddd': 400, 'eee': None}\n"
     ]
    }
   ],
   "source": [
    "# .setdefault without val\n",
    "test_dict.setdefault('eee') # 'eee':None\n",
    "print(test_dict)"
   ]
  },
  {
   "cell_type": "code",
   "execution_count": 57,
   "metadata": {},
   "outputs": [
    {
     "name": "stdout",
     "output_type": "stream",
     "text": [
      "{'aaa': 100, 'bbb': 200, 'ccc': 300, 'ddd': 400, 'eee': None, 'fff': 500}\n"
     ]
    }
   ],
   "source": [
    "# .setdefault with val\n",
    "test_dict.setdefault('fff',500) # 'fff':500\n",
    "print(test_dict)"
   ]
  },
  {
   "cell_type": "code",
   "execution_count": 58,
   "metadata": {},
   "outputs": [
    {
     "name": "stdout",
     "output_type": "stream",
     "text": [
      "{'aaa': 100, 'bbb': 200, 'ccc': 300, 'ddd': 400, 'eee': 600, 'fff': 500}\n"
     ]
    }
   ],
   "source": [
    "# .update (modify or add)\n",
    "test_dict.update(eee=600) # NOTE that no `'`\n",
    "print(test_dict)"
   ]
  },
  {
   "cell_type": "code",
   "execution_count": 59,
   "metadata": {},
   "outputs": [
    {
     "name": "stdout",
     "output_type": "stream",
     "text": [
      "{'aaa': 700, 'bbb': 800, 'ccc': 300, 'ddd': 400, 'eee': 600, 'fff': 500}\n"
     ]
    }
   ],
   "source": [
    "# .update multiple elements\n",
    "test_dict.update(aaa=700,bbb=800)\n",
    "print(test_dict)"
   ]
  },
  {
   "cell_type": "code",
   "execution_count": 60,
   "metadata": {},
   "outputs": [
    {
     "name": "stdout",
     "output_type": "stream",
     "text": [
      "{'aaa': 700, 'bbb': 800, 'ccc': 900, 'ddd': 1000, 'eee': 600, 'fff': 500}\n"
     ]
    }
   ],
   "source": [
    "# .update dicts\n",
    "test_dict.update({'ccc':900,'ddd':1000})\n",
    "print(test_dict)"
   ]
  },
  {
   "cell_type": "code",
   "execution_count": 61,
   "metadata": {},
   "outputs": [
    {
     "name": "stdout",
     "output_type": "stream",
     "text": [
      "{'aaa': 111, 'bbb': 222}\n",
      "aaa:111\n",
      "bbb:222\n"
     ]
    }
   ],
   "source": [
    "test_dict2 = dict(aaa=111,bbb=222)\n",
    "print(test_dict2)\n",
    "\n",
    "# printing dict items \n",
    "for key,val in test_dict2.items():\n",
    "    print('%s:%d' %(key,val))"
   ]
  },
  {
   "cell_type": "code",
   "execution_count": 62,
   "metadata": {},
   "outputs": [
    {
     "name": "stdout",
     "output_type": "stream",
     "text": [
      "{'aaa': 111, 'bbb': 222, 'ccc': [1, 2, 3, 4, 5]}\n",
      "{'aaa': 111, 'bbb': 222, 'ccc': [1, 2, 3, 4, 5, 6]}\n",
      "{'aaa': 111, 'bbb': 222, 'ccc': [2, 3, 4, 5, 6]}\n",
      "{'aaa': 111, 'bbb': 222}\n"
     ]
    }
   ],
   "source": [
    "test_dict2.update(ccc=[1,2,3,4,5])\n",
    "print(test_dict2)\n",
    "\n",
    "# .append\n",
    "test_dict2['ccc'].append(6)\n",
    "print(test_dict2)\n",
    "# .remove from list\n",
    "test_dict2['ccc'].remove(1)\n",
    "print(test_dict2)\n",
    "# del from dict\n",
    "del test_dict2['ccc']\n",
    "print(test_dict2)"
   ]
  }
 ],
 "metadata": {
  "interpreter": {
   "hash": "2099fe86f8ae7b11ff1974837b42372860a5d27a2872793e75f14f9cea001d50"
  },
  "kernelspec": {
   "display_name": "Python 3.9.10 64-bit (windows store)",
   "language": "python",
   "name": "python3"
  },
  "language_info": {
   "codemirror_mode": {
    "name": "ipython",
    "version": 3
   },
   "file_extension": ".py",
   "mimetype": "text/x-python",
   "name": "python",
   "nbconvert_exporter": "python",
   "pygments_lexer": "ipython3",
   "version": "3.9.10"
  },
  "orig_nbformat": 4
 },
 "nbformat": 4,
 "nbformat_minor": 2
}
